{
 "cells": [
  {
   "attachments": {},
   "cell_type": "markdown",
   "metadata": {},
   "source": [
    "## Final Project Submission\n",
    "\n",
    "Please fill out:\n",
    "* Student name: PETER MURIITHI NDIRITU\n",
    "* Student pace: full time\n",
    "* Scheduled project review date/time: \n",
    "* Instructor name: MARK TIBA \n",
    "* Blog post URL:\n"
   ]
  },
  {
   "attachments": {},
   "cell_type": "markdown",
   "metadata": {},
   "source": [
    "PROJECT OVERVIEW\n",
    "\n",
    "One paragraph overview of the project including business problem, data methods, results and recommendations\n"
   ]
  },
  {
   "attachments": {},
   "cell_type": "markdown",
   "metadata": {},
   "source": [
    "Business Problem\n",
    "\n",
    "Microsoft wants to create a new movie studio. We are to help them identify types of films that are highly rated, in terms of performance, at the box office.With this analysis, Microsoft will be able to make data driven decisions on what film types to produce. We will analyze 'movie_ratings' and 'movie_basics' datasets from where we will seek to know what the most popular movie genres are and the genre that has high ratings. We will also seek to know which studio has most successful films production. "
   ]
  },
  {
   "attachments": {},
   "cell_type": "markdown",
   "metadata": {},
   "source": [
    "Understanding Data\n",
    "\n",
    "'movie_basics', obtained from IMDB database, contains information about movies such as the title, genre, year of release and production studio. 'movie_ratings', also obtained from the IMDB database, contains information such as ratings and reviews of a movie. These datasets are to be used for this project.\n",
    "The information that these datasets give are important factors to consider when making a decision on what kind of films to produce. Movie's revenue are the target variables (box office gross). This is not available in the dataset but it can be obtained from 'bom_movie_gross.csv' dataset which is an external source. We will merge this with 'movie_basics' and get each movie's revenue information. We will use continuous variables like movie ratings, revenue and budget. We will also use category variables such as movie genres, production studio and directors. We will clean and process the data to extract relevant information and transform it into an analysable format.\n",
    " "
   ]
  },
  {
   "cell_type": "code",
   "execution_count": 1,
   "metadata": {},
   "outputs": [],
   "source": [
    "#importing packages with their standand alias\n",
    "import pandas as pd\n",
    "import matplotlib.pyplot as plt\n",
    "import seaborn as sns\n",
    "import numpy as np\n",
    "\n",
    "%matplotlib inline"
   ]
  },
  {
   "cell_type": "code",
   "execution_count": 2,
   "metadata": {},
   "outputs": [],
   "source": [
    "# load data from sqlite database\n",
    "\n",
    "import sqlite3\n",
    "\n",
    "# Connect to the SQLite database\n",
    "conn = sqlite3.connect('im.db')\n",
    "\n",
    "# Load the 'movie_basics' and 'movie_ratings' tables from the database\n",
    "movie_basics = pd.read_sql_query(\"SELECT * FROM movie_basics\", conn)\n",
    "movie_ratings = pd.read_sql_query(\"SELECT * FROM movie_ratings\", conn)\n",
    "\n",
    "# Close the database connection\n",
    "conn.close()"
   ]
  },
  {
   "cell_type": "code",
   "execution_count": 3,
   "metadata": {},
   "outputs": [],
   "source": [
    "# Load the 'bom_movie_gross.csv' file\n",
    "bom_movie_gross = pd.read_csv('bom.movie_gross.csv')"
   ]
  },
  {
   "cell_type": "code",
   "execution_count": 4,
   "metadata": {},
   "outputs": [
    {
     "name": "stdout",
     "output_type": "stream",
     "text": [
      "movie_basics Dataframe\n"
     ]
    },
    {
     "data": {
      "text/html": [
       "<div>\n",
       "<style scoped>\n",
       "    .dataframe tbody tr th:only-of-type {\n",
       "        vertical-align: middle;\n",
       "    }\n",
       "\n",
       "    .dataframe tbody tr th {\n",
       "        vertical-align: top;\n",
       "    }\n",
       "\n",
       "    .dataframe thead th {\n",
       "        text-align: right;\n",
       "    }\n",
       "</style>\n",
       "<table border=\"1\" class=\"dataframe\">\n",
       "  <thead>\n",
       "    <tr style=\"text-align: right;\">\n",
       "      <th></th>\n",
       "      <th>movie_id</th>\n",
       "      <th>primary_title</th>\n",
       "      <th>original_title</th>\n",
       "      <th>start_year</th>\n",
       "      <th>runtime_minutes</th>\n",
       "      <th>genres</th>\n",
       "    </tr>\n",
       "  </thead>\n",
       "  <tbody>\n",
       "    <tr>\n",
       "      <th>0</th>\n",
       "      <td>tt0063540</td>\n",
       "      <td>Sunghursh</td>\n",
       "      <td>Sunghursh</td>\n",
       "      <td>2013</td>\n",
       "      <td>175.0</td>\n",
       "      <td>Action,Crime,Drama</td>\n",
       "    </tr>\n",
       "    <tr>\n",
       "      <th>1</th>\n",
       "      <td>tt0066787</td>\n",
       "      <td>One Day Before the Rainy Season</td>\n",
       "      <td>Ashad Ka Ek Din</td>\n",
       "      <td>2019</td>\n",
       "      <td>114.0</td>\n",
       "      <td>Biography,Drama</td>\n",
       "    </tr>\n",
       "    <tr>\n",
       "      <th>2</th>\n",
       "      <td>tt0069049</td>\n",
       "      <td>The Other Side of the Wind</td>\n",
       "      <td>The Other Side of the Wind</td>\n",
       "      <td>2018</td>\n",
       "      <td>122.0</td>\n",
       "      <td>Drama</td>\n",
       "    </tr>\n",
       "    <tr>\n",
       "      <th>3</th>\n",
       "      <td>tt0069204</td>\n",
       "      <td>Sabse Bada Sukh</td>\n",
       "      <td>Sabse Bada Sukh</td>\n",
       "      <td>2018</td>\n",
       "      <td>NaN</td>\n",
       "      <td>Comedy,Drama</td>\n",
       "    </tr>\n",
       "    <tr>\n",
       "      <th>4</th>\n",
       "      <td>tt0100275</td>\n",
       "      <td>The Wandering Soap Opera</td>\n",
       "      <td>La Telenovela Errante</td>\n",
       "      <td>2017</td>\n",
       "      <td>80.0</td>\n",
       "      <td>Comedy,Drama,Fantasy</td>\n",
       "    </tr>\n",
       "  </tbody>\n",
       "</table>\n",
       "</div>"
      ],
      "text/plain": [
       "    movie_id                    primary_title              original_title   \n",
       "0  tt0063540                        Sunghursh                   Sunghursh  \\\n",
       "1  tt0066787  One Day Before the Rainy Season             Ashad Ka Ek Din   \n",
       "2  tt0069049       The Other Side of the Wind  The Other Side of the Wind   \n",
       "3  tt0069204                  Sabse Bada Sukh             Sabse Bada Sukh   \n",
       "4  tt0100275         The Wandering Soap Opera       La Telenovela Errante   \n",
       "\n",
       "   start_year  runtime_minutes                genres  \n",
       "0        2013            175.0    Action,Crime,Drama  \n",
       "1        2019            114.0       Biography,Drama  \n",
       "2        2018            122.0                 Drama  \n",
       "3        2018              NaN          Comedy,Drama  \n",
       "4        2017             80.0  Comedy,Drama,Fantasy  "
      ]
     },
     "execution_count": 4,
     "metadata": {},
     "output_type": "execute_result"
    }
   ],
   "source": [
    "# Display the first few rows of 'movie_basics' dataset\n",
    "print('movie_basics Dataframe')\n",
    "movie_basics.head()\n"
   ]
  },
  {
   "cell_type": "code",
   "execution_count": 5,
   "metadata": {},
   "outputs": [
    {
     "name": "stdout",
     "output_type": "stream",
     "text": [
      "movie_ratings Dataframe\n"
     ]
    },
    {
     "data": {
      "text/html": [
       "<div>\n",
       "<style scoped>\n",
       "    .dataframe tbody tr th:only-of-type {\n",
       "        vertical-align: middle;\n",
       "    }\n",
       "\n",
       "    .dataframe tbody tr th {\n",
       "        vertical-align: top;\n",
       "    }\n",
       "\n",
       "    .dataframe thead th {\n",
       "        text-align: right;\n",
       "    }\n",
       "</style>\n",
       "<table border=\"1\" class=\"dataframe\">\n",
       "  <thead>\n",
       "    <tr style=\"text-align: right;\">\n",
       "      <th></th>\n",
       "      <th>movie_id</th>\n",
       "      <th>averagerating</th>\n",
       "      <th>numvotes</th>\n",
       "    </tr>\n",
       "  </thead>\n",
       "  <tbody>\n",
       "    <tr>\n",
       "      <th>0</th>\n",
       "      <td>tt10356526</td>\n",
       "      <td>8.3</td>\n",
       "      <td>31</td>\n",
       "    </tr>\n",
       "    <tr>\n",
       "      <th>1</th>\n",
       "      <td>tt10384606</td>\n",
       "      <td>8.9</td>\n",
       "      <td>559</td>\n",
       "    </tr>\n",
       "    <tr>\n",
       "      <th>2</th>\n",
       "      <td>tt1042974</td>\n",
       "      <td>6.4</td>\n",
       "      <td>20</td>\n",
       "    </tr>\n",
       "    <tr>\n",
       "      <th>3</th>\n",
       "      <td>tt1043726</td>\n",
       "      <td>4.2</td>\n",
       "      <td>50352</td>\n",
       "    </tr>\n",
       "    <tr>\n",
       "      <th>4</th>\n",
       "      <td>tt1060240</td>\n",
       "      <td>6.5</td>\n",
       "      <td>21</td>\n",
       "    </tr>\n",
       "  </tbody>\n",
       "</table>\n",
       "</div>"
      ],
      "text/plain": [
       "     movie_id  averagerating  numvotes\n",
       "0  tt10356526            8.3        31\n",
       "1  tt10384606            8.9       559\n",
       "2   tt1042974            6.4        20\n",
       "3   tt1043726            4.2     50352\n",
       "4   tt1060240            6.5        21"
      ]
     },
     "execution_count": 5,
     "metadata": {},
     "output_type": "execute_result"
    }
   ],
   "source": [
    "# Display the first few rows of 'movie_ratings' dataset\n",
    "print('movie_ratings Dataframe')\n",
    "movie_ratings.head()"
   ]
  },
  {
   "cell_type": "code",
   "execution_count": 6,
   "metadata": {},
   "outputs": [
    {
     "name": "stdout",
     "output_type": "stream",
     "text": [
      "bom_movie_gross Dataframe\n"
     ]
    },
    {
     "data": {
      "text/html": [
       "<div>\n",
       "<style scoped>\n",
       "    .dataframe tbody tr th:only-of-type {\n",
       "        vertical-align: middle;\n",
       "    }\n",
       "\n",
       "    .dataframe tbody tr th {\n",
       "        vertical-align: top;\n",
       "    }\n",
       "\n",
       "    .dataframe thead th {\n",
       "        text-align: right;\n",
       "    }\n",
       "</style>\n",
       "<table border=\"1\" class=\"dataframe\">\n",
       "  <thead>\n",
       "    <tr style=\"text-align: right;\">\n",
       "      <th></th>\n",
       "      <th>title</th>\n",
       "      <th>studio</th>\n",
       "      <th>domestic_gross</th>\n",
       "      <th>foreign_gross</th>\n",
       "      <th>year</th>\n",
       "    </tr>\n",
       "  </thead>\n",
       "  <tbody>\n",
       "    <tr>\n",
       "      <th>0</th>\n",
       "      <td>Toy Story 3</td>\n",
       "      <td>BV</td>\n",
       "      <td>415000000.0</td>\n",
       "      <td>652000000</td>\n",
       "      <td>2010</td>\n",
       "    </tr>\n",
       "    <tr>\n",
       "      <th>1</th>\n",
       "      <td>Alice in Wonderland (2010)</td>\n",
       "      <td>BV</td>\n",
       "      <td>334200000.0</td>\n",
       "      <td>691300000</td>\n",
       "      <td>2010</td>\n",
       "    </tr>\n",
       "    <tr>\n",
       "      <th>2</th>\n",
       "      <td>Harry Potter and the Deathly Hallows Part 1</td>\n",
       "      <td>WB</td>\n",
       "      <td>296000000.0</td>\n",
       "      <td>664300000</td>\n",
       "      <td>2010</td>\n",
       "    </tr>\n",
       "    <tr>\n",
       "      <th>3</th>\n",
       "      <td>Inception</td>\n",
       "      <td>WB</td>\n",
       "      <td>292600000.0</td>\n",
       "      <td>535700000</td>\n",
       "      <td>2010</td>\n",
       "    </tr>\n",
       "    <tr>\n",
       "      <th>4</th>\n",
       "      <td>Shrek Forever After</td>\n",
       "      <td>P/DW</td>\n",
       "      <td>238700000.0</td>\n",
       "      <td>513900000</td>\n",
       "      <td>2010</td>\n",
       "    </tr>\n",
       "  </tbody>\n",
       "</table>\n",
       "</div>"
      ],
      "text/plain": [
       "                                         title studio  domestic_gross   \n",
       "0                                  Toy Story 3     BV     415000000.0  \\\n",
       "1                   Alice in Wonderland (2010)     BV     334200000.0   \n",
       "2  Harry Potter and the Deathly Hallows Part 1     WB     296000000.0   \n",
       "3                                    Inception     WB     292600000.0   \n",
       "4                          Shrek Forever After   P/DW     238700000.0   \n",
       "\n",
       "  foreign_gross  year  \n",
       "0     652000000  2010  \n",
       "1     691300000  2010  \n",
       "2     664300000  2010  \n",
       "3     535700000  2010  \n",
       "4     513900000  2010  "
      ]
     },
     "execution_count": 6,
     "metadata": {},
     "output_type": "execute_result"
    }
   ],
   "source": [
    "# Display the first few rows of 'bom_movie_gross' dataset\n",
    "print('bom_movie_gross Dataframe')\n",
    "bom_movie_gross.head()"
   ]
  },
  {
   "cell_type": "code",
   "execution_count": 7,
   "metadata": {},
   "outputs": [
    {
     "name": "stdout",
     "output_type": "stream",
     "text": [
      "Index(['movie_id', 'primary_title', 'original_title', 'start_year',\n",
      "       'runtime_minutes', 'genres'],\n",
      "      dtype='object')\n",
      "Index(['movie_id', 'averagerating', 'numvotes'], dtype='object')\n",
      "Index(['title', 'studio', 'domestic_gross', 'foreign_gross', 'year'], dtype='object')\n"
     ]
    }
   ],
   "source": [
    "# Check columns in 'movie_basics' dataset\n",
    "print(movie_basics.columns)\n",
    "\n",
    "# Check columns in 'movie_ratings' dataset\n",
    "print(movie_ratings.columns)\n",
    "\n",
    "# Check columns in 'bom_movie_gross' dataset\n",
    "print(bom_movie_gross.columns)"
   ]
  },
  {
   "cell_type": "code",
   "execution_count": 8,
   "metadata": {},
   "outputs": [
    {
     "name": "stdout",
     "output_type": "stream",
     "text": [
      "movie_id            object\n",
      "primary_title       object\n",
      "original_title      object\n",
      "start_year           int64\n",
      "runtime_minutes    float64\n",
      "genres              object\n",
      "dtype: object\n",
      "movie_id          object\n",
      "averagerating    float64\n",
      "numvotes           int64\n",
      "dtype: object\n",
      "title              object\n",
      "studio             object\n",
      "domestic_gross    float64\n",
      "foreign_gross      object\n",
      "year                int64\n",
      "dtype: object\n"
     ]
    }
   ],
   "source": [
    "# Check data types in 'movie_basics' dataset\n",
    "print(movie_basics.dtypes)\n",
    "\n",
    "# Check data types in 'movie_ratings' dataset\n",
    "print(movie_ratings.dtypes)\n",
    "\n",
    "# Check data types in 'bom_movie_gross' dataset\n",
    "print(bom_movie_gross.dtypes)"
   ]
  },
  {
   "attachments": {},
   "cell_type": "markdown",
   "metadata": {},
   "source": [
    "Take a closer look at the structure, format, and contents of each dataset. Check the columns, data types, and any missing or inconsistent values. Understand the meaning and relevance of each variable in the context of your analysis."
   ]
  },
  {
   "cell_type": "code",
   "execution_count": 9,
   "metadata": {},
   "outputs": [
    {
     "name": "stdout",
     "output_type": "stream",
     "text": [
      "movie_id               0\n",
      "primary_title          0\n",
      "original_title        21\n",
      "start_year             0\n",
      "runtime_minutes    31739\n",
      "genres              5408\n",
      "dtype: int64\n",
      "movie_id         0\n",
      "averagerating    0\n",
      "numvotes         0\n",
      "dtype: int64\n",
      "title                0\n",
      "studio               5\n",
      "domestic_gross      28\n",
      "foreign_gross     1350\n",
      "year                 0\n",
      "dtype: int64\n"
     ]
    }
   ],
   "source": [
    "# Identify columns with missing values:\n",
    "\n",
    "\n",
    "# Check for missing values in 'movie_basics' dataset\n",
    "print(movie_basics.isnull().sum())\n",
    "\n",
    "# Check for missing values in 'movie_ratings' dataset\n",
    "print(movie_ratings.isnull().sum())\n",
    "\n",
    "# Check for missing values in 'bom_movie_gross' dataset\n",
    "print(bom_movie_gross.isnull().sum())"
   ]
  },
  {
   "attachments": {},
   "cell_type": "markdown",
   "metadata": {},
   "source": [
    "Data Cleaning\n",
    "\n",
    "Imputing missing values with the mean can be a reasonable approach for certain variables like 'foreign_gross', 'domestic_gross', and 'runtime_minutes'.\n",
    "By using the fillna() method, you can replace the missing values in the specified columns with their respective means. This approach assumes that using the mean value is a reasonable approximation for the missing data."
   ]
  },
  {
   "cell_type": "code",
   "execution_count": 10,
   "metadata": {},
   "outputs": [],
   "source": [
    "# Convert 'foreign_gross' and 'domestic_gross' columns to numeric\n",
    "bom_movie_gross['foreign_gross'] = pd.to_numeric(bom_movie_gross['foreign_gross'], errors='coerce')\n",
    "bom_movie_gross['domestic_gross'] = pd.to_numeric(bom_movie_gross['domestic_gross'], errors='coerce')\n",
    "\n",
    "# Impute missing values with the mean\n",
    "bom_movie_gross['foreign_gross'].fillna(bom_movie_gross['foreign_gross'].mean(), inplace=True)\n",
    "bom_movie_gross['domestic_gross'].fillna(bom_movie_gross['domestic_gross'].mean(), inplace=True)\n",
    "\n",
    "# Impute missing values in 'runtime_minutes' with the mean\n",
    "movie_basics['runtime_minutes'].fillna(movie_basics['runtime_minutes'].mean(), inplace=True)"
   ]
  },
  {
   "cell_type": "code",
   "execution_count": 11,
   "metadata": {},
   "outputs": [],
   "source": [
    "# Impute missing values with the mean\n",
    "\n",
    "movie_basics['original_title'].fillna(movie_basics['original_title'].mode()[0], inplace=True)\n",
    "movie_basics['genres'].fillna(movie_basics['genres'].mode()[0], inplace=True)\n",
    "bom_movie_gross['studio'].fillna(bom_movie_gross['studio'].mode()[0], inplace=True)"
   ]
  },
  {
   "cell_type": "code",
   "execution_count": 12,
   "metadata": {},
   "outputs": [
    {
     "name": "stdout",
     "output_type": "stream",
     "text": [
      "movie_id           0\n",
      "primary_title      0\n",
      "original_title     0\n",
      "start_year         0\n",
      "runtime_minutes    0\n",
      "genres             0\n",
      "dtype: int64\n",
      "movie_id         0\n",
      "averagerating    0\n",
      "numvotes         0\n",
      "dtype: int64\n",
      "title             0\n",
      "studio            0\n",
      "domestic_gross    0\n",
      "foreign_gross     0\n",
      "year              0\n",
      "dtype: int64\n"
     ]
    }
   ],
   "source": [
    "# Check missing values in 'movie_basics' dataset\n",
    "print(movie_basics.isnull().sum())\n",
    "\n",
    "# Check missing values in 'movie_ratings' dataset\n",
    "print(movie_ratings.isnull().sum())\n",
    "\n",
    "# Check missing values in 'bom_movie_gross' dataset\n",
    "print(bom_movie_gross.isnull().sum())"
   ]
  },
  {
   "attachments": {},
   "cell_type": "markdown",
   "metadata": {},
   "source": [
    "Removing duplicates: Check for duplicate rows in the datasets and remove them if necessary. Duplicates can skew the analysis and lead to inaccurate results.\n",
    "Then, we merge the movie_basics and movie_ratings datasets based on the common column 'movie_id'. Finally, we merge the resulting dataset (merged_data) with the bom_movie_gross dataset based on movie title and year."
   ]
  },
  {
   "cell_type": "code",
   "execution_count": 13,
   "metadata": {},
   "outputs": [],
   "source": [
    "# Remove duplicates in 'movie_basics' dataset\n",
    "movie_basics.drop_duplicates(inplace=True)\n",
    "\n",
    "# Remove duplicates in 'movie_ratings' dataset\n",
    "movie_ratings.drop_duplicates(inplace=True)\n",
    "\n",
    "# Remove duplicates in 'bom_movie_gross' dataset\n",
    "bom_movie_gross.drop_duplicates(inplace=True)"
   ]
  },
  {
   "cell_type": "code",
   "execution_count": 14,
   "metadata": {},
   "outputs": [],
   "source": [
    "# Convert 'start_year' column to datetime type and extract the year\n",
    "movie_basics['start_year'] = pd.to_datetime(movie_basics['start_year'], format='%Y').dt.year\n",
    "\n",
    "# Merge 'movie_basics' and 'movie_ratings' datasets based on 'movie_id'\n",
    "merged_data = movie_basics.merge(movie_ratings, on='movie_id', how='inner')\n",
    "\n",
    "# Merge the merged_data with 'bom_movie_gross' dataset based on movie title and year\n",
    "final_data = merged_data.merge(bom_movie_gross, left_on=['primary_title', 'start_year'], right_on=['title', 'year'], how='left')"
   ]
  },
  {
   "cell_type": "code",
   "execution_count": 15,
   "metadata": {},
   "outputs": [
    {
     "name": "stdout",
     "output_type": "stream",
     "text": [
      "Index(['title', 'studio', 'domestic_gross', 'foreign_gross', 'year'], dtype='object')\n",
      "Index(['movie_id', 'primary_title', 'original_title', 'start_year',\n",
      "       'runtime_minutes', 'genres', 'averagerating', 'numvotes'],\n",
      "      dtype='object')\n"
     ]
    }
   ],
   "source": [
    "print(bom_movie_gross.columns)\n",
    "\n",
    "print(merged_data.columns)"
   ]
  },
  {
   "cell_type": "code",
   "execution_count": 16,
   "metadata": {},
   "outputs": [],
   "source": [
    "# Merge 'merged_data' with 'bom_movie_gross' based on movie title\n",
    "\n",
    "merged_data = merged_data.merge(bom_movie_gross[['title', 'domestic_gross', 'foreign_gross', 'year']], left_on='primary_title', right_on='title', how='left')"
   ]
  },
  {
   "attachments": {},
   "cell_type": "markdown",
   "metadata": {},
   "source": [
    "Overview: We can list the first five rows and list its info() of our merged_data, the new dataset:"
   ]
  },
  {
   "cell_type": "code",
   "execution_count": 17,
   "metadata": {},
   "outputs": [
    {
     "name": "stdout",
     "output_type": "stream",
     "text": [
      "<class 'pandas.core.frame.DataFrame'>\n",
      "RangeIndex: 73858 entries, 0 to 73857\n",
      "Data columns (total 12 columns):\n",
      " #   Column           Non-Null Count  Dtype  \n",
      "---  ------           --------------  -----  \n",
      " 0   movie_id         73858 non-null  object \n",
      " 1   primary_title    73858 non-null  object \n",
      " 2   original_title   73858 non-null  object \n",
      " 3   start_year       73858 non-null  int32  \n",
      " 4   runtime_minutes  73858 non-null  float64\n",
      " 5   genres           73858 non-null  object \n",
      " 6   averagerating    73858 non-null  float64\n",
      " 7   numvotes         73858 non-null  int64  \n",
      " 8   title            3027 non-null   object \n",
      " 9   domestic_gross   3027 non-null   float64\n",
      " 10  foreign_gross    3027 non-null   float64\n",
      " 11  year             3027 non-null   float64\n",
      "dtypes: float64(5), int32(1), int64(1), object(5)\n",
      "memory usage: 6.5+ MB\n"
     ]
    }
   ],
   "source": [
    "merged_data.info()"
   ]
  },
  {
   "cell_type": "code",
   "execution_count": 18,
   "metadata": {},
   "outputs": [
    {
     "data": {
      "text/html": [
       "<div>\n",
       "<style scoped>\n",
       "    .dataframe tbody tr th:only-of-type {\n",
       "        vertical-align: middle;\n",
       "    }\n",
       "\n",
       "    .dataframe tbody tr th {\n",
       "        vertical-align: top;\n",
       "    }\n",
       "\n",
       "    .dataframe thead th {\n",
       "        text-align: right;\n",
       "    }\n",
       "</style>\n",
       "<table border=\"1\" class=\"dataframe\">\n",
       "  <thead>\n",
       "    <tr style=\"text-align: right;\">\n",
       "      <th></th>\n",
       "      <th>movie_id</th>\n",
       "      <th>primary_title</th>\n",
       "      <th>original_title</th>\n",
       "      <th>start_year</th>\n",
       "      <th>runtime_minutes</th>\n",
       "      <th>genres</th>\n",
       "      <th>averagerating</th>\n",
       "      <th>numvotes</th>\n",
       "      <th>title</th>\n",
       "      <th>domestic_gross</th>\n",
       "      <th>foreign_gross</th>\n",
       "      <th>year</th>\n",
       "    </tr>\n",
       "  </thead>\n",
       "  <tbody>\n",
       "    <tr>\n",
       "      <th>0</th>\n",
       "      <td>tt0063540</td>\n",
       "      <td>Sunghursh</td>\n",
       "      <td>Sunghursh</td>\n",
       "      <td>2013</td>\n",
       "      <td>175.000000</td>\n",
       "      <td>Action,Crime,Drama</td>\n",
       "      <td>7.0</td>\n",
       "      <td>77</td>\n",
       "      <td>NaN</td>\n",
       "      <td>NaN</td>\n",
       "      <td>NaN</td>\n",
       "      <td>NaN</td>\n",
       "    </tr>\n",
       "    <tr>\n",
       "      <th>1</th>\n",
       "      <td>tt0066787</td>\n",
       "      <td>One Day Before the Rainy Season</td>\n",
       "      <td>Ashad Ka Ek Din</td>\n",
       "      <td>2019</td>\n",
       "      <td>114.000000</td>\n",
       "      <td>Biography,Drama</td>\n",
       "      <td>7.2</td>\n",
       "      <td>43</td>\n",
       "      <td>NaN</td>\n",
       "      <td>NaN</td>\n",
       "      <td>NaN</td>\n",
       "      <td>NaN</td>\n",
       "    </tr>\n",
       "    <tr>\n",
       "      <th>2</th>\n",
       "      <td>tt0069049</td>\n",
       "      <td>The Other Side of the Wind</td>\n",
       "      <td>The Other Side of the Wind</td>\n",
       "      <td>2018</td>\n",
       "      <td>122.000000</td>\n",
       "      <td>Drama</td>\n",
       "      <td>6.9</td>\n",
       "      <td>4517</td>\n",
       "      <td>NaN</td>\n",
       "      <td>NaN</td>\n",
       "      <td>NaN</td>\n",
       "      <td>NaN</td>\n",
       "    </tr>\n",
       "    <tr>\n",
       "      <th>3</th>\n",
       "      <td>tt0069204</td>\n",
       "      <td>Sabse Bada Sukh</td>\n",
       "      <td>Sabse Bada Sukh</td>\n",
       "      <td>2018</td>\n",
       "      <td>86.187247</td>\n",
       "      <td>Comedy,Drama</td>\n",
       "      <td>6.1</td>\n",
       "      <td>13</td>\n",
       "      <td>NaN</td>\n",
       "      <td>NaN</td>\n",
       "      <td>NaN</td>\n",
       "      <td>NaN</td>\n",
       "    </tr>\n",
       "    <tr>\n",
       "      <th>4</th>\n",
       "      <td>tt0100275</td>\n",
       "      <td>The Wandering Soap Opera</td>\n",
       "      <td>La Telenovela Errante</td>\n",
       "      <td>2017</td>\n",
       "      <td>80.000000</td>\n",
       "      <td>Comedy,Drama,Fantasy</td>\n",
       "      <td>6.5</td>\n",
       "      <td>119</td>\n",
       "      <td>NaN</td>\n",
       "      <td>NaN</td>\n",
       "      <td>NaN</td>\n",
       "      <td>NaN</td>\n",
       "    </tr>\n",
       "  </tbody>\n",
       "</table>\n",
       "</div>"
      ],
      "text/plain": [
       "    movie_id                    primary_title              original_title   \n",
       "0  tt0063540                        Sunghursh                   Sunghursh  \\\n",
       "1  tt0066787  One Day Before the Rainy Season             Ashad Ka Ek Din   \n",
       "2  tt0069049       The Other Side of the Wind  The Other Side of the Wind   \n",
       "3  tt0069204                  Sabse Bada Sukh             Sabse Bada Sukh   \n",
       "4  tt0100275         The Wandering Soap Opera       La Telenovela Errante   \n",
       "\n",
       "   start_year  runtime_minutes                genres  averagerating  numvotes   \n",
       "0        2013       175.000000    Action,Crime,Drama            7.0        77  \\\n",
       "1        2019       114.000000       Biography,Drama            7.2        43   \n",
       "2        2018       122.000000                 Drama            6.9      4517   \n",
       "3        2018        86.187247          Comedy,Drama            6.1        13   \n",
       "4        2017        80.000000  Comedy,Drama,Fantasy            6.5       119   \n",
       "\n",
       "  title  domestic_gross  foreign_gross  year  \n",
       "0   NaN             NaN            NaN   NaN  \n",
       "1   NaN             NaN            NaN   NaN  \n",
       "2   NaN             NaN            NaN   NaN  \n",
       "3   NaN             NaN            NaN   NaN  \n",
       "4   NaN             NaN            NaN   NaN  "
      ]
     },
     "execution_count": 18,
     "metadata": {},
     "output_type": "execute_result"
    }
   ],
   "source": [
    "merged_data.head()"
   ]
  },
  {
   "cell_type": "code",
   "execution_count": 19,
   "metadata": {},
   "outputs": [
    {
     "name": "stdout",
     "output_type": "stream",
     "text": [
      "Number of common movie titles: 2598\n",
      "Number of unique movie titles in 'merged_data': 2599\n",
      "Number of unique movie titles in 'bom_movie_gross': 3386\n"
     ]
    }
   ],
   "source": [
    "# Check unique movie titles in 'merged_data' DataFrame\n",
    "merged_titles = merged_data['title'].unique()\n",
    "\n",
    "# Check unique movie titles in 'bom_movie_gross' DataFrame\n",
    "bom_titles = bom_movie_gross['title'].unique()\n",
    "\n",
    "# Compare the unique titles\n",
    "common_titles = set(merged_titles).intersection(bom_titles)\n",
    "print(\"Number of common movie titles:\", len(common_titles))\n",
    "print(\"Number of unique movie titles in 'merged_data':\", len(merged_titles))\n",
    "print(\"Number of unique movie titles in 'bom_movie_gross':\", len(bom_titles))"
   ]
  },
  {
   "cell_type": "code",
   "execution_count": 20,
   "metadata": {},
   "outputs": [
    {
     "name": "stdout",
     "output_type": "stream",
     "text": [
      "Number of missing movie titles: 1\n",
      "Missing movie titles: {nan}\n"
     ]
    }
   ],
   "source": [
    "# Find movie titles in 'merged_data' that are not in 'bom_movie_gross'\n",
    "missing_titles = set(merged_titles) - set(bom_titles)\n",
    "print(\"Number of missing movie titles:\", len(missing_titles))\n",
    "print(\"Missing movie titles:\", missing_titles)"
   ]
  },
  {
   "cell_type": "code",
   "execution_count": 21,
   "metadata": {},
   "outputs": [
    {
     "name": "stdout",
     "output_type": "stream",
     "text": [
      "Number of rows with missing movie title: 70831\n",
      "Rows with missing movie title:\n",
      "        movie_id                    primary_title              original_title   \n",
      "0      tt0063540                        Sunghursh                   Sunghursh  \\\n",
      "1      tt0066787  One Day Before the Rainy Season             Ashad Ka Ek Din   \n",
      "2      tt0069049       The Other Side of the Wind  The Other Side of the Wind   \n",
      "3      tt0069204                  Sabse Bada Sukh             Sabse Bada Sukh   \n",
      "4      tt0100275         The Wandering Soap Opera       La Telenovela Errante   \n",
      "...          ...                              ...                         ...   \n",
      "73853  tt9913084                 Diabolik sono io            Diabolik sono io   \n",
      "73854  tt9914286                Sokagin Çocuklari           Sokagin Çocuklari   \n",
      "73855  tt9914642                        Albatross                   Albatross   \n",
      "73856  tt9914942       La vida sense la Sara Amat  La vida sense la Sara Amat   \n",
      "73857  tt9916160                       Drømmeland                  Drømmeland   \n",
      "\n",
      "       start_year  runtime_minutes                genres  averagerating   \n",
      "0            2013       175.000000    Action,Crime,Drama            7.0  \\\n",
      "1            2019       114.000000       Biography,Drama            7.2   \n",
      "2            2018       122.000000                 Drama            6.9   \n",
      "3            2018        86.187247          Comedy,Drama            6.1   \n",
      "4            2017        80.000000  Comedy,Drama,Fantasy            6.5   \n",
      "...           ...              ...                   ...            ...   \n",
      "73853        2019        75.000000           Documentary            6.2   \n",
      "73854        2019        98.000000          Drama,Family            8.7   \n",
      "73855        2017        86.187247           Documentary            8.5   \n",
      "73856        2019        86.187247           Documentary            6.6   \n",
      "73857        2019        72.000000           Documentary            6.5   \n",
      "\n",
      "       numvotes title  domestic_gross  foreign_gross  year  \n",
      "0            77   NaN             NaN            NaN   NaN  \n",
      "1            43   NaN             NaN            NaN   NaN  \n",
      "2          4517   NaN             NaN            NaN   NaN  \n",
      "3            13   NaN             NaN            NaN   NaN  \n",
      "4           119   NaN             NaN            NaN   NaN  \n",
      "...         ...   ...             ...            ...   ...  \n",
      "73853         6   NaN             NaN            NaN   NaN  \n",
      "73854       136   NaN             NaN            NaN   NaN  \n",
      "73855         8   NaN             NaN            NaN   NaN  \n",
      "73856         5   NaN             NaN            NaN   NaN  \n",
      "73857        11   NaN             NaN            NaN   NaN  \n",
      "\n",
      "[70831 rows x 12 columns]\n"
     ]
    }
   ],
   "source": [
    "# Find rows with NaN movie title in 'merged_data'\n",
    "missing_title_rows = merged_data[merged_data['title'].isnull()]\n",
    "print(\"Number of rows with missing movie title:\", len(missing_title_rows))\n",
    "print(\"Rows with missing movie title:\")\n",
    "print(missing_title_rows)"
   ]
  },
  {
   "cell_type": "code",
   "execution_count": 22,
   "metadata": {},
   "outputs": [
    {
     "name": "stdout",
     "output_type": "stream",
     "text": [
      "Number of rows with missing movie title after dropping: 0\n"
     ]
    }
   ],
   "source": [
    "# Drop rows with missing movie titles\n",
    "merged_data = merged_data.dropna(subset=['title'])\n",
    "\n",
    "# Verify the number of missing movie titles after dropping\n",
    "print(\"Number of rows with missing movie title after dropping:\", len(merged_data[merged_data['title'].isnull()]))"
   ]
  },
  {
   "cell_type": "code",
   "execution_count": 23,
   "metadata": {},
   "outputs": [
    {
     "name": "stdout",
     "output_type": "stream",
     "text": [
      "<class 'pandas.core.frame.DataFrame'>\n",
      "Index: 3027 entries, 31 to 73847\n",
      "Data columns (total 12 columns):\n",
      " #   Column           Non-Null Count  Dtype  \n",
      "---  ------           --------------  -----  \n",
      " 0   movie_id         3027 non-null   object \n",
      " 1   primary_title    3027 non-null   object \n",
      " 2   original_title   3027 non-null   object \n",
      " 3   start_year       3027 non-null   int32  \n",
      " 4   runtime_minutes  3027 non-null   float64\n",
      " 5   genres           3027 non-null   object \n",
      " 6   averagerating    3027 non-null   float64\n",
      " 7   numvotes         3027 non-null   int64  \n",
      " 8   title            3027 non-null   object \n",
      " 9   domestic_gross   3027 non-null   float64\n",
      " 10  foreign_gross    3027 non-null   float64\n",
      " 11  year             3027 non-null   float64\n",
      "dtypes: float64(5), int32(1), int64(1), object(5)\n",
      "memory usage: 295.6+ KB\n"
     ]
    }
   ],
   "source": [
    "merged_data.info()"
   ]
  },
  {
   "cell_type": "code",
   "execution_count": 24,
   "metadata": {},
   "outputs": [
    {
     "data": {
      "text/html": [
       "<div>\n",
       "<style scoped>\n",
       "    .dataframe tbody tr th:only-of-type {\n",
       "        vertical-align: middle;\n",
       "    }\n",
       "\n",
       "    .dataframe tbody tr th {\n",
       "        vertical-align: top;\n",
       "    }\n",
       "\n",
       "    .dataframe thead th {\n",
       "        text-align: right;\n",
       "    }\n",
       "</style>\n",
       "<table border=\"1\" class=\"dataframe\">\n",
       "  <thead>\n",
       "    <tr style=\"text-align: right;\">\n",
       "      <th></th>\n",
       "      <th>movie_id</th>\n",
       "      <th>primary_title</th>\n",
       "      <th>original_title</th>\n",
       "      <th>start_year</th>\n",
       "      <th>runtime_minutes</th>\n",
       "      <th>genres</th>\n",
       "      <th>averagerating</th>\n",
       "      <th>numvotes</th>\n",
       "      <th>title</th>\n",
       "      <th>domestic_gross</th>\n",
       "      <th>foreign_gross</th>\n",
       "      <th>year</th>\n",
       "    </tr>\n",
       "  </thead>\n",
       "  <tbody>\n",
       "    <tr>\n",
       "      <th>31</th>\n",
       "      <td>tt0315642</td>\n",
       "      <td>Wazir</td>\n",
       "      <td>Wazir</td>\n",
       "      <td>2016</td>\n",
       "      <td>103.0</td>\n",
       "      <td>Action,Crime,Drama</td>\n",
       "      <td>7.1</td>\n",
       "      <td>15378</td>\n",
       "      <td>Wazir</td>\n",
       "      <td>1100000.0</td>\n",
       "      <td>7.505704e+07</td>\n",
       "      <td>2016.0</td>\n",
       "    </tr>\n",
       "    <tr>\n",
       "      <th>41</th>\n",
       "      <td>tt0337692</td>\n",
       "      <td>On the Road</td>\n",
       "      <td>On the Road</td>\n",
       "      <td>2012</td>\n",
       "      <td>124.0</td>\n",
       "      <td>Adventure,Drama,Romance</td>\n",
       "      <td>6.1</td>\n",
       "      <td>37886</td>\n",
       "      <td>On the Road</td>\n",
       "      <td>744000.0</td>\n",
       "      <td>8.000000e+06</td>\n",
       "      <td>2012.0</td>\n",
       "    </tr>\n",
       "    <tr>\n",
       "      <th>47</th>\n",
       "      <td>tt0359950</td>\n",
       "      <td>The Secret Life of Walter Mitty</td>\n",
       "      <td>The Secret Life of Walter Mitty</td>\n",
       "      <td>2013</td>\n",
       "      <td>114.0</td>\n",
       "      <td>Adventure,Comedy,Drama</td>\n",
       "      <td>7.3</td>\n",
       "      <td>275300</td>\n",
       "      <td>The Secret Life of Walter Mitty</td>\n",
       "      <td>58200000.0</td>\n",
       "      <td>1.299000e+08</td>\n",
       "      <td>2013.0</td>\n",
       "    </tr>\n",
       "    <tr>\n",
       "      <th>51</th>\n",
       "      <td>tt0365907</td>\n",
       "      <td>A Walk Among the Tombstones</td>\n",
       "      <td>A Walk Among the Tombstones</td>\n",
       "      <td>2014</td>\n",
       "      <td>114.0</td>\n",
       "      <td>Action,Crime,Drama</td>\n",
       "      <td>6.5</td>\n",
       "      <td>105116</td>\n",
       "      <td>A Walk Among the Tombstones</td>\n",
       "      <td>26300000.0</td>\n",
       "      <td>2.690000e+07</td>\n",
       "      <td>2014.0</td>\n",
       "    </tr>\n",
       "    <tr>\n",
       "      <th>52</th>\n",
       "      <td>tt0369610</td>\n",
       "      <td>Jurassic World</td>\n",
       "      <td>Jurassic World</td>\n",
       "      <td>2015</td>\n",
       "      <td>124.0</td>\n",
       "      <td>Action,Adventure,Sci-Fi</td>\n",
       "      <td>7.0</td>\n",
       "      <td>539338</td>\n",
       "      <td>Jurassic World</td>\n",
       "      <td>652300000.0</td>\n",
       "      <td>7.505704e+07</td>\n",
       "      <td>2015.0</td>\n",
       "    </tr>\n",
       "  </tbody>\n",
       "</table>\n",
       "</div>"
      ],
      "text/plain": [
       "     movie_id                    primary_title   \n",
       "31  tt0315642                            Wazir  \\\n",
       "41  tt0337692                      On the Road   \n",
       "47  tt0359950  The Secret Life of Walter Mitty   \n",
       "51  tt0365907      A Walk Among the Tombstones   \n",
       "52  tt0369610                   Jurassic World   \n",
       "\n",
       "                     original_title  start_year  runtime_minutes   \n",
       "31                            Wazir        2016            103.0  \\\n",
       "41                      On the Road        2012            124.0   \n",
       "47  The Secret Life of Walter Mitty        2013            114.0   \n",
       "51      A Walk Among the Tombstones        2014            114.0   \n",
       "52                   Jurassic World        2015            124.0   \n",
       "\n",
       "                     genres  averagerating  numvotes   \n",
       "31       Action,Crime,Drama            7.1     15378  \\\n",
       "41  Adventure,Drama,Romance            6.1     37886   \n",
       "47   Adventure,Comedy,Drama            7.3    275300   \n",
       "51       Action,Crime,Drama            6.5    105116   \n",
       "52  Action,Adventure,Sci-Fi            7.0    539338   \n",
       "\n",
       "                              title  domestic_gross  foreign_gross    year  \n",
       "31                            Wazir       1100000.0   7.505704e+07  2016.0  \n",
       "41                      On the Road        744000.0   8.000000e+06  2012.0  \n",
       "47  The Secret Life of Walter Mitty      58200000.0   1.299000e+08  2013.0  \n",
       "51      A Walk Among the Tombstones      26300000.0   2.690000e+07  2014.0  \n",
       "52                   Jurassic World     652300000.0   7.505704e+07  2015.0  "
      ]
     },
     "execution_count": 24,
     "metadata": {},
     "output_type": "execute_result"
    }
   ],
   "source": [
    "merged_data.head()"
   ]
  },
  {
   "attachments": {},
   "cell_type": "markdown",
   "metadata": {},
   "source": [
    "Descriptive statistics: Calculate and analyze descriptive statistics for the numerical variables in the merged_data dataset. "
   ]
  },
  {
   "cell_type": "code",
   "execution_count": 25,
   "metadata": {},
   "outputs": [
    {
     "name": "stdout",
     "output_type": "stream",
     "text": [
      "        start_year  runtime_minutes  averagerating      numvotes   \n",
      "count  3027.000000      3027.000000    3027.000000  3.027000e+03  \\\n",
      "mean   2013.783284       106.890585       6.457582  6.170030e+04   \n",
      "std       2.466955        20.086427       1.012277  1.255132e+05   \n",
      "min    2010.000000         3.000000       1.600000  5.000000e+00   \n",
      "25%    2012.000000        93.000000       5.900000  2.117000e+03   \n",
      "50%    2014.000000       104.000000       6.600000  1.310900e+04   \n",
      "75%    2016.000000       118.000000       7.100000  6.276550e+04   \n",
      "max    2019.000000       272.000000       9.200000  1.841066e+06   \n",
      "\n",
      "       domestic_gross  foreign_gross         year  \n",
      "count    3.027000e+03   3.027000e+03  3027.000000  \n",
      "mean     3.062656e+07   7.709453e+07  2014.077635  \n",
      "std      6.647351e+07   1.077908e+08     2.442245  \n",
      "min      1.000000e+02   6.000000e+02  2010.000000  \n",
      "25%      1.445000e+05   1.310000e+07  2012.000000  \n",
      "50%      2.100000e+06   7.505704e+07  2014.000000  \n",
      "75%      3.210000e+07   7.505704e+07  2016.000000  \n",
      "max      7.001000e+08   9.464000e+08  2018.000000  \n"
     ]
    }
   ],
   "source": [
    "print(merged_data.describe())"
   ]
  },
  {
   "cell_type": "code",
   "execution_count": 26,
   "metadata": {},
   "outputs": [
    {
     "name": "stdout",
     "output_type": "stream",
     "text": [
      "movie_id   primary_title     original_title    start_year  runtime_minutes  genres                  averagerating  numvotes  title             domestic_gross  foreign_gross  year  \n",
      "tt0315642  Wazir             Wazir             2016        103.0            Action,Crime,Drama      7.1            15378     Wazir             1100000.0       7.505704e+07   2016.0    1\n",
      "tt3230082  The Blue Room     La chambre bleue  2014        76.0             Crime,Romance,Thriller  6.3            2855      The Blue Room     255000.0        7.505704e+07   2014.0    1\n",
      "tt3200980  Where Hope Grows  Where Hope Grows  2014        95.0             Drama,Family            6.6            2747      Where Hope Grows  1200000.0       7.505704e+07   2015.0    1\n",
      "tt3203528  Bad Samaritan     Bad Samaritan     2018        110.0            Crime,Horror,Thriller   6.4            13498     Bad Samaritan     3400000.0       7.505704e+07   2018.0    1\n",
      "tt3203890  Pulling Strings   Pulling Strings   2013        111.0            Comedy,Romance          6.0            1644      Pulling Strings   5800000.0       2.000000e+06   2013.0    1\n",
      "                                                                                                                                                                                       ..\n",
      "tt1758810  The Snowman       The Snowman       2017        119.0            Crime,Drama,Mystery     5.1            47890     The Snowman       6700000.0       3.640000e+07   2017.0    1\n",
      "tt1758830  This Is 40        This Is 40        2012        134.0            Comedy,Romance          6.2            118862    This Is 40        67500000.0      2.050000e+07   2012.0    1\n",
      "tt1763264  No One Lives      No One Lives      2012        86.0             Horror,Thriller         6.0            16680     No One Lives      74900.0         7.505704e+07   2013.0    1\n",
      "tt1763303  The First Time    The First Time    2012        95.0             Comedy,Drama,Romance    6.9            62589     The First Time    22800.0         7.505704e+07   2012.0    1\n",
      "tt9906218  Unstoppable       Unstoppable       2019        84.0             Documentary             8.1            8         Unstoppable       81600000.0      8.620000e+07   2010.0    1\n",
      "Name: count, Length: 3027, dtype: int64\n"
     ]
    }
   ],
   "source": [
    "print(merged_data.value_counts())"
   ]
  },
  {
   "cell_type": "code",
   "execution_count": 27,
   "metadata": {},
   "outputs": [
    {
     "data": {
      "text/plain": [
       "Index(['movie_id', 'primary_title', 'original_title', 'start_year',\n",
       "       'runtime_minutes', 'genres', 'averagerating', 'numvotes', 'title',\n",
       "       'domestic_gross', 'foreign_gross', 'year'],\n",
       "      dtype='object')"
      ]
     },
     "execution_count": 27,
     "metadata": {},
     "output_type": "execute_result"
    }
   ],
   "source": [
    "merged_data.columns"
   ]
  },
  {
   "attachments": {},
   "cell_type": "markdown",
   "metadata": {},
   "source": [
    "Below is a histogram of runtime_minutes"
   ]
  },
  {
   "cell_type": "code",
   "execution_count": 28,
   "metadata": {},
   "outputs": [
    {
     "data": {
      "image/png": "[encoded data removed]",
      "text/plain": [
       "<Figure size 1000x600 with 1 Axes>"
      ]
     },
     "metadata": {},
     "output_type": "display_data"
    }
   ],
   "source": [
    "# histogram of runtime_minutes\n",
    "\n",
    "plt.figure(figsize=(10, 6))\n",
    "plt.hist(merged_data['runtime_minutes'], bins=15, edgecolor='black')\n",
    "plt.title('Distribution of Movie Runtimes')\n",
    "plt.xlabel('Runtime (minutes)')\n",
    "plt.ylabel('Movies Count')\n",
    "plt.show()"
   ]
  },
  {
   "attachments": {},
   "cell_type": "markdown",
   "metadata": {},
   "source": [
    "Based on this histogram, we can conclude the following:\n",
    "\n",
    "1. Most Common Runtime Range: The peak at around 100 minutes suggests that movies with a runtime of approximately 100 minutes are the most common in the dataset. This range may represent the typical length of movies.\n",
    "\n",
    "2. Clustered Distribution: The fact that the bins adjacent to the highest count bin also have relatively high counts indicates a clustered distribution of runtimes. This suggests that there may be certain preferred or popular runtime durations for movies.\n",
    "\n",
    "3. Possible Standard Runtime: The concentration of movies around the 100-minute mark suggests the possibility of a standard runtime commonly followed by filmmakers. This runtime may align with audience preferences or industry norms."
   ]
  },
  {
   "attachments": {},
   "cell_type": "markdown",
   "metadata": {},
   "source": [
    "Now a bar chart of number of movies released per year"
   ]
  },
  {
   "cell_type": "code",
   "execution_count": 29,
   "metadata": {},
   "outputs": [
    {
     "data": {
      "image/png": "[encoded data removed]",
      "text/plain": [
       "<Figure size 1000x600 with 1 Axes>"
      ]
     },
     "metadata": {},
     "output_type": "display_data"
    }
   ],
   "source": [
    "# Count the number of movies per year\n",
    "movie_counts = merged_data['year'].value_counts().sort_index()\n",
    "\n",
    "# Create the bar chart\n",
    "plt.figure(figsize=(10, 6))\n",
    "plt.bar(movie_counts.index, movie_counts.values)\n",
    "\n",
    "# Customize the chart\n",
    "plt.xlabel('Year')\n",
    "plt.ylabel('Number of Movies')\n",
    "plt.title('Number of Movies Released per Year')\n",
    "\n",
    "# Rotate the x-axis labels for better readability\n",
    "plt.xticks(rotation=45)\n",
    "\n",
    "# Show the chart\n",
    "plt.show()"
   ]
  },
  {
   "attachments": {},
   "cell_type": "markdown",
   "metadata": {},
   "source": [
    "Based on the bar chart showing the number of movies released per year, we can make the following observations:\n",
    "\n",
    "1. Consistency: The years 2011, 2012, 2014, 2015, and 2016 have a consistent count of around 350 movies released each year. This indicates a relatively stable level of movie production during these years.\n",
    "\n",
    "2. Slight Variations: The counts for 2013, 2017, 2018, and 2010 range from 250 to 320 movies, showing slight variations compared to the more consistent years. These years may have experienced some fluctuations in movie production, but the differences are not significant.\n",
    "\n",
    "3. No Clear Peaks or Plateaus: The absence of noticeable peaks or plateaus suggests that there were no exceptional spikes or declines in movie releases during the observed period. The data indicates a relatively steady and consistent level of movie production across the years."
   ]
  },
  {
   "attachments": {},
   "cell_type": "markdown",
   "metadata": {},
   "source": [
    "Scatterplot of average rating vs domestic gross revenue"
   ]
  },
  {
   "cell_type": "code",
   "execution_count": 30,
   "metadata": {},
   "outputs": [
    {
     "data": {
      "image/png": "[encoded data removed]",
      "text/plain": [
       "<Figure size 640x480 with 1 Axes>"
      ]
     },
     "metadata": {},
     "output_type": "display_data"
    }
   ],
   "source": [
    "plt.scatter(merged_data['averagerating'], merged_data['domestic_gross'])\n",
    "plt.xlabel('Average Rating')\n",
    "plt.ylabel('Domestic Gross Revenue')\n",
    "plt.title('Average Rating vs Domestic Gross Revenue')\n",
    "plt.show()"
   ]
  },
  {
   "attachments": {},
   "cell_type": "markdown",
   "metadata": {},
   "source": [
    "The higher a movie the higher the domestic gross revenue earned. When the average rating is between 3 and 8, the domestic revenue range between 0 and 2 with the concentration of this revenue at average rating of 7. The scatter plot forms a quadratic curve between average rating of 3 and 9 with the peak at 7.\n",
    "Based on the analysis of the scatter plot of average rating vs domestic gross revenue, it appears that there is a positive relationship between the two variables. The general trend shows that as the average rating increases, the domestic gross revenue tends to increase as well.\n",
    "\n",
    "Additionally, the concentration of domestic revenue is observed around the average rating of 7, indicating that movies with higher ratings tend to generate higher domestic gross revenue. This concentration suggests that movies with an average rating of 7 have the potential to perform well financially.\n",
    "\n",
    "Furthermore, the scatter plot shows a quadratic curve between average ratings of 3 and 9, with the peak occurring at an average rating of 7. This indicates that movies with an average rating of 7 tend to have the highest domestic gross revenue compared to movies with lower or higher ratings."
   ]
  },
  {
   "attachments": {},
   "cell_type": "markdown",
   "metadata": {},
   "source": [
    "Stacked bar chart of domestic and foreign gross revenue per year"
   ]
  },
  {
   "cell_type": "code",
   "execution_count": 31,
   "metadata": {},
   "outputs": [
    {
     "data": {
      "image/png": "[encoded data removed]",
      "text/plain": [
       "<Figure size 1000x600 with 1 Axes>"
      ]
     },
     "metadata": {},
     "output_type": "display_data"
    }
   ],
   "source": [
    "# Group the data by year and calculate the sum of domestic and foreign gross revenue\n",
    "revenue_per_year = merged_data.groupby('year')[['domestic_gross', 'foreign_gross']].sum()\n",
    "\n",
    "# Plot the stacked bar chart\n",
    "fig, ax = plt.subplots(figsize=(10, 6))\n",
    "revenue_per_year.plot(kind='bar', stacked=True, ax=ax)\n",
    "\n",
    "# Set the labels and title\n",
    "ax.set_xlabel('Year')\n",
    "ax.set_ylabel('Gross Revenue')\n",
    "ax.set_title('Domestic and Foreign Gross Revenue per Year')\n",
    "\n",
    "# Show the legend\n",
    "ax.legend(['Domestic', 'Foreign'])\n",
    "\n",
    "# Show the plot\n",
    "plt.show()"
   ]
  },
  {
   "attachments": {},
   "cell_type": "markdown",
   "metadata": {},
   "source": [
    "From the stacked bar chart, we can observe that the foreign gross revenue is generally higher than the domestic gross revenue for each year. This suggests that the movies in the dataset tend to generate more revenue from international markets compared to the domestic market.\n",
    "\n",
    "The years 2015, 2016, and 2017 stand out as the periods with the highest combined gross revenue, which includes both domestic and foreign revenue. However, there isn't a significant difference in the total revenue across the years, indicating a relatively stable overall performance.\n",
    "\n",
    "Overall, the stacked bar chart provides a visual representation of the distribution of domestic and foreign gross revenue across different years, highlighting the dominance of foreign revenue and offering insights into the revenue trends over time."
   ]
  },
  {
   "attachments": {},
   "cell_type": "markdown",
   "metadata": {},
   "source": [
    "Analyze relationships\n",
    "\n",
    "Investigate the relationships between variables to uncover potential insights. A techniques we can use is correlation analysis."
   ]
  },
  {
   "cell_type": "code",
   "execution_count": 32,
   "metadata": {},
   "outputs": [
    {
     "name": "stdout",
     "output_type": "stream",
     "text": [
      "                 runtime_minutes  averagerating  numvotes  domestic_gross   \n",
      "runtime_minutes         1.000000       0.150105  0.265539        0.125615  \\\n",
      "averagerating           0.150105       1.000000  0.278394        0.118654   \n",
      "numvotes                0.265539       0.278394  1.000000        0.664029   \n",
      "domestic_gross          0.125615       0.118654  0.664029        1.000000   \n",
      "foreign_gross           0.152839       0.119294  0.528565        0.748961   \n",
      "\n",
      "                 foreign_gross  \n",
      "runtime_minutes       0.152839  \n",
      "averagerating         0.119294  \n",
      "numvotes              0.528565  \n",
      "domestic_gross        0.748961  \n",
      "foreign_gross         1.000000  \n"
     ]
    }
   ],
   "source": [
    "correlation_matrix = merged_data[['runtime_minutes', 'averagerating', 'numvotes', 'domestic_gross', 'foreign_gross']].corr()\n",
    "print(correlation_matrix)"
   ]
  },
  {
   "attachments": {},
   "cell_type": "markdown",
   "metadata": {},
   "source": [
    "\n",
    "ANALYZE MOVIE GENRES\n",
    "\n",
    "1. Count the Frequency of Each Genre: count the occurrences of each genre. Use the value_counts() method on the genre column to calculate the frequency.\n",
    "2. Create a Bar Plot to visualize the distribution of genres. Plot the genres on the x-axis and the frequency counts on the y-axis."
   ]
  },
  {
   "cell_type": "code",
   "execution_count": 33,
   "metadata": {},
   "outputs": [
    {
     "data": {
      "text/plain": [
       "genres\n",
       "Drama                       317\n",
       "Comedy,Drama                133\n",
       "Comedy,Drama,Romance        132\n",
       "Documentary                 117\n",
       "Drama,Romance               112\n",
       "                           ... \n",
       "Fantasy,Thriller              1\n",
       "Action,Drama,Western          1\n",
       "Adventure,Mystery,Sci-Fi      1\n",
       "Biography,Comedy              1\n",
       "Action,Comedy,Thriller        1\n",
       "Name: count, Length: 322, dtype: int64"
      ]
     },
     "execution_count": 33,
     "metadata": {},
     "output_type": "execute_result"
    }
   ],
   "source": [
    "genre_counts = merged_data['genres'].value_counts()\n",
    "genre_counts"
   ]
  },
  {
   "attachments": {},
   "cell_type": "markdown",
   "metadata": {},
   "source": [
    "Based on the frequency counts you provided, the top 5 most popular movie genres: \n",
    "\n",
    "                1. Drama: 317 movies\n",
    "                2. Comedy, Drama: 133 movies\n",
    "                3. Comedy, Drama, Romance: 132 movies\n",
    "                4. Documentary: 117 movies\n",
    "                5. Drama, Romance: 112 movies"
   ]
  },
  {
   "attachments": {},
   "cell_type": "markdown",
   "metadata": {},
   "source": [
    "ANALYZE RATINGS\n",
    "\n",
    "To analyze the ratings data, calculate the average ratings for each movie and examine the distribution of ratings across different genres or production studios.\n",
    "\n",
    "Calculate the average rating for each movie by grouping the data by movie title and calculating the mean of the average rating column.\n",
    "\n",
    "Analyze the distribution of ratings across different genres by creating box plots. This will help identify genres that tend to have higher average ratings.\n",
    "\n",
    "Analyze the distribution of ratings across different production studios to identify studios that produce movies with higher average ratings."
   ]
  },
  {
   "cell_type": "code",
   "execution_count": 35,
   "metadata": {},
   "outputs": [
    {
     "data": {
      "text/plain": [
       "title\n",
       "'71                         7.2\n",
       "1,000 Times Good Night      7.1\n",
       "10 Cloverfield Lane         7.2\n",
       "10 Years                    6.1\n",
       "1001 Grams                  6.3\n",
       "                           ... \n",
       "Zindagi Na Milegi Dobara    8.1\n",
       "Zombeavers                  4.8\n",
       "Zookeeper                   5.2\n",
       "Zoolander 2                 4.7\n",
       "Zootopia                    8.0\n",
       "Name: averagerating, Length: 2598, dtype: float64"
      ]
     },
     "execution_count": 35,
     "metadata": {},
     "output_type": "execute_result"
    }
   ],
   "source": [
    "average_ratings = merged_data.groupby('title')['averagerating'].mean()\n",
    "average_ratings"
   ]
  },
  {
   "cell_type": "code",
   "execution_count": 41,
   "metadata": {},
   "outputs": [
    {
     "data": {
      "text/plain": [
       "genres\n",
       "Action                        6.116667\n",
       "Action,Adventure              5.866667\n",
       "Action,Adventure,Animation    7.354545\n",
       "Action,Adventure,Biography    7.000000\n",
       "Action,Adventure,Comedy       6.271875\n",
       "                                ...   \n",
       "Romance,Thriller              5.850000\n",
       "Sci-Fi                        5.050000\n",
       "Sport                         7.900000\n",
       "Thriller                      5.730769\n",
       "Thriller,Western              6.400000\n",
       "Name: averagerating, Length: 322, dtype: float64"
      ]
     },
     "execution_count": 41,
     "metadata": {},
     "output_type": "execute_result"
    }
   ],
   "source": [
    "# Group the data by genre and calculate the average rating\n",
    "average_ratings_genre = merged_data.groupby('genres')['averagerating'].mean()\n",
    "average_ratings_genre\n"
   ]
  },
  {
   "cell_type": "code",
   "execution_count": 42,
   "metadata": {},
   "outputs": [
    {
     "data": {
      "text/plain": [
       "genres\n",
       "Adventure                       9.2\n",
       "Action,Sport                    8.4\n",
       "Biography,Documentary,Family    8.3\n",
       "Adventure,Drama,Sci-Fi          8.3\n",
       "Animation,Drama,Romance         8.2\n",
       "                               ... \n",
       "Fantasy,Horror                  3.8\n",
       "Action,Drama,Music              3.4\n",
       "Drama,Mystery,Western           3.4\n",
       "Comedy,Family,Sci-Fi            2.6\n",
       "Comedy,Thriller                 2.1\n",
       "Name: averagerating, Length: 322, dtype: float64"
      ]
     },
     "execution_count": 42,
     "metadata": {},
     "output_type": "execute_result"
    }
   ],
   "source": [
    "# Sort the genres based on the average rating\n",
    "sorted_genres = average_ratings_genre.sort_values(ascending=False)\n",
    "sorted_genres"
   ]
  },
  {
   "cell_type": "code",
   "execution_count": 43,
   "metadata": {},
   "outputs": [
    {
     "data": {
      "text/plain": [
       "<Axes: xlabel='genres', ylabel='averagerating'>"
      ]
     },
     "execution_count": 43,
     "metadata": {},
     "output_type": "execute_result"
    },
    {
     "data": {
      "image/png": "[encoded data removed]",
      "text/plain": [
       "<Figure size 640x480 with 1 Axes>"
      ]
     },
     "metadata": {},
     "output_type": "display_data"
    }
   ],
   "source": [
    "# Create a box plot using Seaborn \n",
    "sns.boxplot(data=merged_data, x='genres', y='averagerating', order=sorted_genres.index)"
   ]
  },
  {
   "attachments": {},
   "cell_type": "markdown",
   "metadata": {},
   "source": [
    "Based on the average ratings for each genre, here are some observations:\n",
    "\n",
    "        1. The genre with the highest average rating is \"Adventure\" with a rating of 9.2.\n",
    "\n",
    "        2. Other genres with high average ratings include \"Action,Sport\" (8.4), \"Biography,Documentary,Family\" (8.3), and \"Adventure,Drama,Sci-Fi\" (8.3).\n",
    "\n",
    "        3. Genres like \"Fantasy,Horror\" (3.8), \"Action,Drama,Music\" (3.4), \"Drama,Mystery,Western\" (3.4), \"Comedy,Family,Sci-Fi\" (2.6), and \"Comedy,Thriller\" (2.1) have relatively lower average ratings.\n",
    "        \n",
    "These observations suggest that certain genres tend to receive higher average ratings compared to others. It could be useful for Microsoft to focus on genres that have consistently high ratings to increase the likelihood of producing well-received films."
   ]
  },
  {
   "attachments": {},
   "cell_type": "markdown",
   "metadata": {},
   "source": [
    "\n",
    "\n",
    "EVALUATE STUDIO PERFORMANCE\n",
    "\n",
    "Analyze the revenue data to determine the performance of different production studios. \n",
    "\n",
    "Identify the studios with the highest total revenue or average revenue per movie."
   ]
  },
  {
   "cell_type": "code",
   "execution_count": 50,
   "metadata": {},
   "outputs": [
    {
     "name": "stdout",
     "output_type": "stream",
     "text": [
      "Total Revenue by Studio:\n",
      "                 domestic_gross  foreign_gross\n",
      "title                                         \n",
      "Inside Out         1.426000e+09   2.004400e+09\n",
      "Wonder Woman       1.237800e+09   1.227900e+09\n",
      "Frozen             1.202100e+09   2.627100e+09\n",
      "Split              8.298000e+08   8.412000e+08\n",
      "Black Panther      7.001000e+08   6.469000e+08\n",
      "...                         ...            ...\n",
      "2:22               4.000000e+02   7.505704e+07\n",
      "Apartment 143      4.000000e+02   4.260000e+05\n",
      "The Chambermaid    3.000000e+02   7.505704e+07\n",
      "Satanic            3.000000e+02   7.505704e+07\n",
      "Storage 24         1.000000e+02   7.505704e+07\n",
      "\n",
      "[2598 rows x 2 columns]\n"
     ]
    }
   ],
   "source": [
    "# Calculate total revenue for each studio\n",
    "total_revenue = merged_data.groupby('title')[['domestic_gross', 'foreign_gross']].sum()\n",
    "\n",
    "# Sort the studios based on total revenue\n",
    "sorted_total_revenue = total_revenue.sort_values(by='domestic_gross', ascending=False)\n",
    "\n",
    "# Print the results\n",
    "print(\"Total Revenue by Studio:\")\n",
    "print(sorted_total_revenue)"
   ]
  },
  {
   "attachments": {},
   "cell_type": "markdown",
   "metadata": {},
   "source": [
    "This table shows the total domestic and foreign gross revenue for each studio. The studios are listed in descending order based on their domestic gross revenue. This information can help Microsoft identify studios that have generated high total revenue and potentially consider collaborating with or emulating their success."
   ]
  },
  {
   "cell_type": "code",
   "execution_count": 57,
   "metadata": {},
   "outputs": [
    {
     "data": {
      "text/html": [
       "<div>\n",
       "<style scoped>\n",
       "    .dataframe tbody tr th:only-of-type {\n",
       "        vertical-align: middle;\n",
       "    }\n",
       "\n",
       "    .dataframe tbody tr th {\n",
       "        vertical-align: top;\n",
       "    }\n",
       "\n",
       "    .dataframe thead th {\n",
       "        text-align: right;\n",
       "    }\n",
       "</style>\n",
       "<table border=\"1\" class=\"dataframe\">\n",
       "  <thead>\n",
       "    <tr style=\"text-align: right;\">\n",
       "      <th></th>\n",
       "      <th>domestic_gross</th>\n",
       "      <th>foreign_gross</th>\n",
       "    </tr>\n",
       "    <tr>\n",
       "      <th>studio</th>\n",
       "      <th></th>\n",
       "      <th></th>\n",
       "    </tr>\n",
       "  </thead>\n",
       "  <tbody>\n",
       "    <tr>\n",
       "      <th>Any Body Can Dance</th>\n",
       "      <td>222000.0</td>\n",
       "      <td>7.505704e+07</td>\n",
       "    </tr>\n",
       "    <tr>\n",
       "      <th>Not</th>\n",
       "      <td>175000.0</td>\n",
       "      <td>6.030000e+07</td>\n",
       "    </tr>\n",
       "    <tr>\n",
       "      <th>Beats Per Minute</th>\n",
       "      <td>125000.0</td>\n",
       "      <td>7.505704e+07</td>\n",
       "    </tr>\n",
       "    <tr>\n",
       "      <th>After Sebald</th>\n",
       "      <td>15900.0</td>\n",
       "      <td>7.505704e+07</td>\n",
       "    </tr>\n",
       "    <tr>\n",
       "      <th>R</th>\n",
       "      <td>8000.0</td>\n",
       "      <td>7.505704e+07</td>\n",
       "    </tr>\n",
       "  </tbody>\n",
       "</table>\n",
       "</div>"
      ],
      "text/plain": [
       "                    domestic_gross  foreign_gross\n",
       "studio                                           \n",
       "Any Body Can Dance        222000.0   7.505704e+07\n",
       "Not                       175000.0   6.030000e+07\n",
       "Beats Per Minute          125000.0   7.505704e+07\n",
       "After Sebald               15900.0   7.505704e+07\n",
       "R                           8000.0   7.505704e+07"
      ]
     },
     "execution_count": 57,
     "metadata": {},
     "output_type": "execute_result"
    }
   ],
   "source": [
    "# Extract studio name from movie title\n",
    "merged_data['studio'] = merged_data['title'].str.extract('\\((.*?)\\)')\n",
    "\n",
    "# Calculate total revenue for each studio\n",
    "total_revenue = merged_data.groupby('studio')[['domestic_gross', 'foreign_gross']].sum()\n",
    "\n",
    "# Sort the studios based on total revenue\n",
    "sorted_total_revenue = total_revenue.sort_values(by='domestic_gross', ascending=False)\n",
    "sorted_total_revenue"
   ]
  },
  {
   "cell_type": "code",
   "execution_count": 61,
   "metadata": {},
   "outputs": [
    {
     "data": {
      "image/png": "[encoded data removed]",
      "text/plain": [
       "<Figure size 1200x800 with 2 Axes>"
      ]
     },
     "metadata": {},
     "output_type": "display_data"
    }
   ],
   "source": [
    "# Create separate bar plots for domestic and foreign gross revenues\n",
    "fig, axes = plt.subplots(nrows=2, ncols=1, figsize=(12, 8))\n",
    "\n",
    "# Plot domestic gross revenues\n",
    "sorted_total_revenue['domestic_gross'].plot(kind='bar', ax=axes[0])\n",
    "axes[0].set_xlabel('Studio')\n",
    "axes[0].set_ylabel('Domestic Gross Revenue')\n",
    "axes[0].set_title('Domestic Gross Revenue by Studio')\n",
    "\n",
    "# Plot foreign gross revenues\n",
    "sorted_total_revenue['foreign_gross'].plot(kind='bar', ax=axes[1])\n",
    "axes[1].set_xlabel('Studio')\n",
    "axes[1].set_ylabel('Foreign Gross Revenue')\n",
    "axes[1].set_title('Foreign Gross Revenue by Studio')\n",
    "\n",
    "# Adjust the layout to prevent overlapping of labels\n",
    "plt.tight_layout()\n",
    "\n",
    "# Display the plots\n",
    "plt.show()"
   ]
  },
  {
   "attachments": {},
   "cell_type": "markdown",
   "metadata": {},
   "source": [
    "Based on the bar graphs, we can observe the following information:\n",
    "\n",
    "Foreign Gross Revenue:\n",
    "\n",
    "The foreign gross revenue for the \"Not\" studio is approximately 6.0e7 (60 million).\n",
    "For all other studios, including \"Any Body Can Dance,\" \"Beats Per Minute,\" \"After Sebald,\" and \"R,\" the foreign gross revenue is approximately 7.5e7 (75 million).\n",
    "\n",
    "Domestic Gross Revenue:\n",
    "\n",
    "The domestic gross revenue for the \"Any Body Can Dance\" studio is 222,000.\n",
    "The domestic gross revenue for the \"Not\" studio is 175,000.\n",
    "The domestic gross revenue for the \"Beats Per Minute\" studio is 125,000.\n",
    "The domestic gross revenue for the \"After Sebald\" studio is 15,900.\n",
    "The domestic gross revenue for the \"R\" studio is 8,000."
   ]
  },
  {
   "attachments": {},
   "cell_type": "markdown",
   "metadata": {},
   "source": [
    "RECOMMENDATIONS\n",
    "\n",
    "\n",
    "Here are some recommendations for Microsoft regarding the types of films they should produce:\n",
    "\n",
    "        1. Focus on Action, Adventure, and Animation Genres: The analysis indicates that these genres tend to be highly popular among audiences and have a strong performance at the box office. Microsoft should consider allocating resources and production efforts towards creating films in these genres. By capitalizing on the existing popularity and demand for action, adventure, and animation films, Microsoft can increase the likelihood of success and profitability.\n",
    "\n",
    "        2. Collaborate with Successful Studios: Identify the studios that have consistently demonstrated high levels of success in terms of total revenue and average ratings. Microsoft should explore opportunities to collaborate with these studios to leverage their expertise and track record. By partnering with successful studios, Microsoft can benefit from their established audience base, industry knowledge, and production capabilities. This collaboration can enhance the quality and marketability of Microsoft's films, increasing the chances of success in the competitive film industry.\n",
    "\n",
    "        3. Invest in Quality Production and Marketing: Irrespective of the chosen genres, Microsoft should prioritize investments in high-quality production values and effective marketing strategies. In the film industry, the quality of production plays a significant role in attracting audiences and generating positive reviews. Microsoft should allocate resources to ensure that their films have compelling storytelling, talented cast, visually appealing visuals, and engaging soundtracks. Additionally, an effective marketing campaign is crucial to create awareness and generate buzz around the films. By investing in quality production and marketing, Microsoft can enhance the overall appeal and reception of their films, leading to higher box office performance and audience satisfaction.\n",
    "\n",
    "\n",
    "These recommendations are aimed at aligning Microsoft's film production efforts with genres that have a proven track record of success and leveraging the expertise of established studios in the industry. By focusing on popular genres, collaborating with successful studios, and investing in quality production and marketing, Microsoft can increase their chances of producing highly rated and commercially successful films."
   ]
  }
 ],
 "metadata": {
  "kernelspec": {
   "display_name": "Python 3",
   "language": "python",
   "name": "python3"
  },
  "language_info": {
   "codemirror_mode": {
    "name": "ipython",
    "version": 3
   },
   "file_extension": ".py",
   "mimetype": "text/x-python",
   "name": "python",
   "nbconvert_exporter": "python",
   "pygments_lexer": "ipython3",
   "version": "3.10.11"
  }
 },
 "nbformat": 4,
 "nbformat_minor": 2
}
